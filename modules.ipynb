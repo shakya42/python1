{
  "nbformat": 4,
  "nbformat_minor": 0,
  "metadata": {
    "colab": {
      "provenance": []
    },
    "kernelspec": {
      "name": "python3",
      "display_name": "Python 3"
    },
    "language_info": {
      "name": "python"
    }
  },
  "cells": [
    {
      "cell_type": "code",
      "source": [
        "import itertools\n",
        "import operator"
      ],
      "metadata": {
        "id": "rcJ4OzSiCuoM"
      },
      "execution_count": 1,
      "outputs": []
    },
    {
      "cell_type": "code",
      "source": [
        "from itertools import count\n",
        "\n",
        "def count_example(start, step):\n",
        "    counter = count(start, step)\n",
        "\n",
        "    for c in counter:\n",
        "        print(c)\n",
        "\n",
        "        if c == 100:\n",
        "            break\n",
        "\n",
        "count_example(10, 5)"
      ],
      "metadata": {
        "colab": {
          "base_uri": "https://localhost:8080/"
        },
        "id": "Exn2mv22DMS6",
        "outputId": "fa02dd71-d40a-458c-af9f-18bbe4a1b608"
      },
      "execution_count": 2,
      "outputs": [
        {
          "output_type": "stream",
          "name": "stdout",
          "text": [
            "10\n",
            "15\n",
            "20\n",
            "25\n",
            "30\n",
            "35\n",
            "40\n",
            "45\n",
            "50\n",
            "55\n",
            "60\n",
            "65\n",
            "70\n",
            "75\n",
            "80\n",
            "85\n",
            "90\n",
            "95\n",
            "100\n"
          ]
        }
      ]
    },
    {
      "cell_type": "code",
      "source": [
        "from itertools import repeat\n",
        "\n",
        "def repeat_example(element, max_repeats):\n",
        "    repeater = repeat(element, max_repeats)\n",
        "\n",
        "    for val in repeater:\n",
        "        print(val)\n",
        "\n",
        "repeat_example('hello', 10)"
      ],
      "metadata": {
        "colab": {
          "base_uri": "https://localhost:8080/"
        },
        "id": "Of4SFDm_DYyR",
        "outputId": "14b18e15-53ac-45fa-ad0f-b45987a8d79b"
      },
      "execution_count": 3,
      "outputs": [
        {
          "output_type": "stream",
          "name": "stdout",
          "text": [
            "hello\n",
            "hello\n",
            "hello\n",
            "hello\n",
            "hello\n",
            "hello\n",
            "hello\n",
            "hello\n",
            "hello\n",
            "hello\n"
          ]
        }
      ]
    },
    {
      "cell_type": "code",
      "source": [
        "from itertools import cycle\n",
        "\n",
        "def cycle_example(elements):\n",
        "    i = 0\n",
        "    cycler = cycle(elements)\n",
        "    while i < 100:\n",
        "        print(next(cycler), end=\" \")\n",
        "        i += 1\n",
        "\n",
        "cycle_example('ABCDEF')"
      ],
      "metadata": {
        "colab": {
          "base_uri": "https://localhost:8080/"
        },
        "id": "MgfjqHD8DbGi",
        "outputId": "e8e9453d-2b67-4713-ac13-f47caee5c546"
      },
      "execution_count": 4,
      "outputs": [
        {
          "output_type": "stream",
          "name": "stdout",
          "text": [
            "A B C D E F A B C D E F A B C D E F A B C D E F A B C D E F A B C D E F A B C D E F A B C D E F A B C D E F A B C D E F A B C D E F A B C D E F A B C D E F A B C D E F A B C D E F A B C D E F A B C D "
          ]
        }
      ]
    },
    {
      "cell_type": "code",
      "source": [
        "from itertools import accumulate\n",
        "\n",
        "def accumulate_example(elements):\n",
        "    running_sum = accumulate(elements)\n",
        "    print(list(running_sum))\n",
        "\n",
        "accumulate_example([1,2,3,4,5,6,7,8,9,10])"
      ],
      "metadata": {
        "colab": {
          "base_uri": "https://localhost:8080/"
        },
        "id": "_4HcY03qDdi3",
        "outputId": "af129e6d-f560-4539-d832-bee8e1457571"
      },
      "execution_count": 5,
      "outputs": [
        {
          "output_type": "stream",
          "name": "stdout",
          "text": [
            "[1, 3, 6, 10, 15, 21, 28, 36, 45, 55]\n"
          ]
        }
      ]
    },
    {
      "cell_type": "code",
      "source": [
        "from itertools import chain\n",
        "\n",
        "def chain_example(elements1, elements2):\n",
        "    chained = chain(elements1, elements2)\n",
        "    print(list(chained))\n",
        "\n",
        "chain_example(\"123\", \"456\")"
      ],
      "metadata": {
        "colab": {
          "base_uri": "https://localhost:8080/"
        },
        "id": "KcSA5Po4Dg7j",
        "outputId": "d58b434e-3f13-4b1a-ba7e-3833f669c00c"
      },
      "execution_count": 6,
      "outputs": [
        {
          "output_type": "stream",
          "name": "stdout",
          "text": [
            "['1', '2', '3', '4', '5', '6']\n"
          ]
        }
      ]
    },
    {
      "cell_type": "code",
      "source": [
        "from itertools import chain\n",
        "\n",
        "def chain_from_iterable_example(iterable):\n",
        "    chained = chain.from_iterable(iterable)\n",
        "    print(list(chained))\n",
        "\n",
        "chain_from_iterable_example([[1,2,3], [4,5,6], [7,8,9], [10,11,12]])"
      ],
      "metadata": {
        "colab": {
          "base_uri": "https://localhost:8080/"
        },
        "id": "8YUukmh8Dm5L",
        "outputId": "4d96c480-4ac3-4352-94f1-ccfc905a13b5"
      },
      "execution_count": 7,
      "outputs": [
        {
          "output_type": "stream",
          "name": "stdout",
          "text": [
            "[1, 2, 3, 4, 5, 6, 7, 8, 9, 10, 11, 12]\n"
          ]
        }
      ]
    },
    {
      "cell_type": "code",
      "source": [
        "from itertools import compress\n",
        "\n",
        "def compress_example(data, selectors):\n",
        "    compressed = compress(data, selectors)\n",
        "    print(list(compressed))\n",
        "\n",
        "compress_example([[\"a\", \"b\", \"c\"], [1, 2, 3], [True, False, True]], [True, False, False])"
      ],
      "metadata": {
        "colab": {
          "base_uri": "https://localhost:8080/"
        },
        "id": "H891zmtbDrfK",
        "outputId": "48ef1bb2-d67a-4a0c-c187-1b5b36ce344b"
      },
      "execution_count": 8,
      "outputs": [
        {
          "output_type": "stream",
          "name": "stdout",
          "text": [
            "[['a', 'b', 'c']]\n"
          ]
        }
      ]
    },
    {
      "cell_type": "code",
      "source": [
        "from itertools import pairwise\n",
        "\n",
        "def pairwise_example(iterable):\n",
        "    paired = pairwise(iterable)\n",
        "    print(list(paired))\n",
        "\n",
        "pairwise_example([1,2,3,4,5,6,7,8,9,10])"
      ],
      "metadata": {
        "colab": {
          "base_uri": "https://localhost:8080/"
        },
        "id": "P5m2fjB0DuK7",
        "outputId": "c15515e3-49ec-4940-af89-255d244d29e1"
      },
      "execution_count": 9,
      "outputs": [
        {
          "output_type": "stream",
          "name": "stdout",
          "text": [
            "[(1, 2), (2, 3), (3, 4), (4, 5), (5, 6), (6, 7), (7, 8), (8, 9), (9, 10)]\n"
          ]
        }
      ]
    },
    {
      "cell_type": "code",
      "source": [
        "from itertools import product\n",
        "\n",
        "def product_example(iterable1, iterable2):\n",
        "    result = product(iterable1, iterable2)\n",
        "    print(list(result))\n",
        "\n",
        "product_example([1, 2, 3], [\"a\", \"b\", \"c\"])"
      ],
      "metadata": {
        "colab": {
          "base_uri": "https://localhost:8080/"
        },
        "id": "GLWc3k1dDw1T",
        "outputId": "c1051ccf-98de-4ffa-b9cd-277025672a34"
      },
      "execution_count": 10,
      "outputs": [
        {
          "output_type": "stream",
          "name": "stdout",
          "text": [
            "[(1, 'a'), (1, 'b'), (1, 'c'), (2, 'a'), (2, 'b'), (2, 'c'), (3, 'a'), (3, 'b'), (3, 'c')]\n"
          ]
        }
      ]
    },
    {
      "cell_type": "code",
      "source": [
        "from itertools import permutations\n",
        "\n",
        "def permutaions_example(iterable, size):\n",
        "    result = permutations(iterable, size)\n",
        "    print(list(result))\n",
        "\n",
        "permutaions_example(\"ABCD\", 2)"
      ],
      "metadata": {
        "colab": {
          "base_uri": "https://localhost:8080/"
        },
        "id": "HhOYSO3mDyhT",
        "outputId": "80989923-5c1d-411f-a33b-871b571dd4a0"
      },
      "execution_count": 11,
      "outputs": [
        {
          "output_type": "stream",
          "name": "stdout",
          "text": [
            "[('A', 'B'), ('A', 'C'), ('A', 'D'), ('B', 'A'), ('B', 'C'), ('B', 'D'), ('C', 'A'), ('C', 'B'), ('C', 'D'), ('D', 'A'), ('D', 'B'), ('D', 'C')]\n"
          ]
        }
      ]
    },
    {
      "cell_type": "code",
      "source": [
        "from itertools import combinations\n",
        "\n",
        "def permutaions_example(iterable, size):\n",
        "    result = combinations(iterable, size)\n",
        "    print(list(result))\n",
        "\n",
        "permutaions_example(\"ABCD\", 2)"
      ],
      "metadata": {
        "colab": {
          "base_uri": "https://localhost:8080/"
        },
        "id": "YE6CX2hGD0Fy",
        "outputId": "58b62794-0961-46c6-88b2-cb6501e15112"
      },
      "execution_count": 12,
      "outputs": [
        {
          "output_type": "stream",
          "name": "stdout",
          "text": [
            "[('A', 'B'), ('A', 'C'), ('A', 'D'), ('B', 'C'), ('B', 'D'), ('C', 'D')]\n"
          ]
        }
      ]
    },
    {
      "cell_type": "code",
      "source": [
        "import itertools\n",
        "import operator"
      ],
      "metadata": {
        "id": "YrE9ocGBD13K"
      },
      "execution_count": 13,
      "outputs": []
    },
    {
      "cell_type": "code",
      "source": [
        "import itertools\n",
        "for i in itertools.count(5, 1):\n",
        "    if i == 15:\n",
        "        break\n",
        "    else:\n",
        "        print(i, end =\" \")"
      ],
      "metadata": {
        "colab": {
          "base_uri": "https://localhost:8080/"
        },
        "id": "y-xCHU8uD-16",
        "outputId": "a8ef6a10-8865-4806-f02a-bda4b990a843"
      },
      "execution_count": 14,
      "outputs": [
        {
          "output_type": "stream",
          "name": "stdout",
          "text": [
            "5 6 7 8 9 10 11 12 13 14 "
          ]
        }
      ]
    },
    {
      "cell_type": "code",
      "source": [
        "import itertools\n",
        "count = 0\n",
        "for i in itertools.cycle('123'):\n",
        "    if count > 7:\n",
        "        break\n",
        "    else:\n",
        "        print(i, end = \" \")\n",
        "        count += 1"
      ],
      "metadata": {
        "colab": {
          "base_uri": "https://localhost:8080/"
        },
        "id": "8wTTwsDrEBoS",
        "outputId": "7e98cbd9-96d5-4560-f03d-fdfbab103299"
      },
      "execution_count": 15,
      "outputs": [
        {
          "output_type": "stream",
          "name": "stdout",
          "text": [
            "1 2 3 1 2 3 1 2 "
          ]
        }
      ]
    },
    {
      "cell_type": "code",
      "source": [
        "import itertools\n",
        "print (\"Printing numbers repeatedly : \")\n",
        "print (list(itertools.repeat(100, 4)))"
      ],
      "metadata": {
        "colab": {
          "base_uri": "https://localhost:8080/"
        },
        "id": "PVNuSziZEDNq",
        "outputId": "8ab3458e-f2c8-4862-dca7-41889a6bfa4d"
      },
      "execution_count": 16,
      "outputs": [
        {
          "output_type": "stream",
          "name": "stdout",
          "text": [
            "Printing numbers repeatedly : \n",
            "[100, 100, 100, 100]\n"
          ]
        }
      ]
    },
    {
      "cell_type": "code",
      "source": [
        "from itertools import product\n",
        "print(\"The cartesian product of the containers:\")\n",
        "print(list(product('AB', [3, 4])))"
      ],
      "metadata": {
        "colab": {
          "base_uri": "https://localhost:8080/"
        },
        "id": "e_7a1pJOEFAi",
        "outputId": "4ae151b1-d472-4862-90cd-8b3aeea7b46a"
      },
      "execution_count": 17,
      "outputs": [
        {
          "output_type": "stream",
          "name": "stdout",
          "text": [
            "The cartesian product of the containers:\n",
            "[('A', 3), ('A', 4), ('B', 3), ('B', 4)]\n"
          ]
        }
      ]
    },
    {
      "cell_type": "code",
      "source": [
        "from itertools import permutations\n",
        "print (\"All the permutations of the given string is:\")\n",
        "print (list(permutations('12')))\n",
        "print()\n",
        "print (\"All the permutations of the given container is:\")\n",
        "print(list(permutations(range(3), 2)))"
      ],
      "metadata": {
        "colab": {
          "base_uri": "https://localhost:8080/"
        },
        "id": "isDMbwJBEHD2",
        "outputId": "b801d505-8342-404d-b5a4-913951f07eba"
      },
      "execution_count": 18,
      "outputs": [
        {
          "output_type": "stream",
          "name": "stdout",
          "text": [
            "All the permutations of the given string is:\n",
            "[('1', '2'), ('2', '1')]\n",
            "\n",
            "All the permutations of the given container is:\n",
            "[(0, 1), (0, 2), (1, 0), (1, 2), (2, 0), (2, 1)]\n"
          ]
        }
      ]
    },
    {
      "cell_type": "code",
      "source": [
        "from itertools import combinations\n",
        "print (\"All the combination of string in sorted order(without replacement) is:\")\n",
        "print(list(combinations('AB', 2)))\n",
        "print()"
      ],
      "metadata": {
        "colab": {
          "base_uri": "https://localhost:8080/"
        },
        "id": "LfpK2FIPEIim",
        "outputId": "7094251d-53c8-4dcf-9aa6-3a4f537ea07c"
      },
      "execution_count": 19,
      "outputs": [
        {
          "output_type": "stream",
          "name": "stdout",
          "text": [
            "All the combination of string in sorted order(without replacement) is:\n",
            "[('A', 'B')]\n",
            "\n"
          ]
        }
      ]
    },
    {
      "cell_type": "code",
      "source": [
        "from itertools import combinations_with_replacement\n",
        "print (\"All the combination of string in sorted order(with replacement) is:\")\n",
        "print(list(combinations_with_replacement(\"AB\", 2)))\n",
        "print()"
      ],
      "metadata": {
        "colab": {
          "base_uri": "https://localhost:8080/"
        },
        "id": "oy7aYR_gEKaW",
        "outputId": "a2978f36-fd13-49d5-df5b-dd789f438910"
      },
      "execution_count": 20,
      "outputs": [
        {
          "output_type": "stream",
          "name": "stdout",
          "text": [
            "All the combination of string in sorted order(with replacement) is:\n",
            "[('A', 'A'), ('A', 'B'), ('B', 'B')]\n",
            "\n"
          ]
        }
      ]
    },
    {
      "cell_type": "code",
      "source": [],
      "metadata": {
        "id": "AMPFj_HZEL12"
      },
      "execution_count": null,
      "outputs": []
    },
    {
      "cell_type": "markdown",
      "source": [
        "ITERATOR\tARGUMENTS\tEXAMPLE\n",
        "accumulate()\titerable ,function\taccumulate([1,2,3,4,5]) --> 1 3 6 10 15\n",
        "chain()\titerable1 ,iterable2, ...\tchain('ABC', 'DEF') --> A B C D E F\n",
        "chain.from_iterable()\titerable\tchain.from_iterable(['ABC', 'DEF']) --> A B C D E F\n",
        "compress()\titerable ,selector\tcompress('ABCDEF', [1,0,1,0,1,1]) --> A C E F\n",
        "dropwhile()\tfunction ,sequence\tdropwhile(lambda x: x<5, [1,4,6,4,1]) --> 6 4 1\n",
        "filterfalse()\tfunction, sequence\tfilterfalse(lambda x: x%2, range(10)) --> 0 2 4 6 8\n",
        "groupby()\titerable ,key\tkey_func = lambda x: x[0] itertools.groupby(L, key_func):\n",
        "islice()\titerable, start, stop, step\tislice('ABCDEFG', 2, None) --> C D E F G\n",
        "starmap()\tfunction ,sequence\tstarmap(pow, [(2,5), (3,2), (10,3)]) --> 32 9 1000\n",
        "takewhile()\tfunc ,iterable\ttakewhile(lambda x: x<5, [1,4,6,4,1]) --> 1 4\n",
        "tee()\titerable ,count\tit = itertools.tee(iti, 3) iti = [2, 4, 6, 7, 8, 10, 20]\n",
        "zip_longest()\titerable1 ,iterable2\tzip_longest('ABCD', 'xy', fillvalue='-') --> Ax By C- D-"
      ],
      "metadata": {
        "id": "4bEww_zqEU2n"
      }
    },
    {
      "cell_type": "code",
      "source": [
        "import itertools\n",
        "import operator\n",
        "li1 = [1, 4, 5, 7]\n",
        "print (\"The product after each iteration is : \", end =\"\")\n",
        "print (list(itertools.accumulate(li1, operator.mul)))"
      ],
      "metadata": {
        "colab": {
          "base_uri": "https://localhost:8080/"
        },
        "id": "VqDjNUYXEW7b",
        "outputId": "3c3fd9dd-da49-4bc8-9c1f-2afe64ddc288"
      },
      "execution_count": 21,
      "outputs": [
        {
          "output_type": "stream",
          "name": "stdout",
          "text": [
            "The product after each iteration is : [1, 4, 20, 140]\n"
          ]
        }
      ]
    },
    {
      "cell_type": "code",
      "source": [
        "import itertools\n",
        "li1 = [1, 4, 5, 7]\n",
        "li2 = [1, 6, 5, 9]\n",
        "print (\"All values in mentioned chain are : \", end =\"\")\n",
        "print (list(itertools.chain(li1, li2)))"
      ],
      "metadata": {
        "colab": {
          "base_uri": "https://localhost:8080/"
        },
        "id": "2822fGczEaCz",
        "outputId": "52e83391-01f5-4676-86ff-8b7518c7b7ce"
      },
      "execution_count": 22,
      "outputs": [
        {
          "output_type": "stream",
          "name": "stdout",
          "text": [
            "All values in mentioned chain are : [1, 4, 5, 7, 1, 6, 5, 9]\n"
          ]
        }
      ]
    },
    {
      "cell_type": "code",
      "source": [
        "import itertools\n",
        "li1 = [1, 4, 5, 7]\n",
        "li2 = [1, 6, 5, 9]\n",
        "li3 = [8, 10, 5, 4]\n",
        "li4 = [li1, li2, li3]\n",
        "print (\"All values in mentioned chain are : \", end =\"\")\n",
        "print (list(itertools.chain.from_iterable(li4)))"
      ],
      "metadata": {
        "colab": {
          "base_uri": "https://localhost:8080/"
        },
        "id": "K1VAko_UEbyT",
        "outputId": "b67812fc-0827-413b-a50f-c4232bf91cdb"
      },
      "execution_count": 23,
      "outputs": [
        {
          "output_type": "stream",
          "name": "stdout",
          "text": [
            "All values in mentioned chain are : [1, 4, 5, 7, 1, 6, 5, 9, 8, 10, 5, 4]\n"
          ]
        }
      ]
    },
    {
      "cell_type": "code",
      "source": [
        "import itertools\n",
        "print (\"The compressed values in string are : \", end =\"\")\n",
        "print (list(itertools.compress('ILOVESOCCER', [1, 0, 0, 0, 0, 1, 0, 0, 1, 0, 0, 0, 0])))\n",
        "print (list(itertools.compress('ILOVESOCCER', [0, 0, 0, 0, 0, 0, 0, 0, 0, 0, 0, 0, 0])))"
      ],
      "metadata": {
        "colab": {
          "base_uri": "https://localhost:8080/"
        },
        "id": "uKDi-jhsEdQT",
        "outputId": "13d0c5fb-423a-4a92-cbb4-9dccca34de97"
      },
      "execution_count": 24,
      "outputs": [
        {
          "output_type": "stream",
          "name": "stdout",
          "text": [
            "The compressed values in string are : ['I', 'S', 'C']\n",
            "[]\n"
          ]
        }
      ]
    },
    {
      "cell_type": "code",
      "source": [
        "import itertools\n",
        "li = [2, 4, 5, 7, 8]\n",
        "print (\"The values after condition returns false : \", end =\"\")\n",
        "print (list(itertools.dropwhile(lambda x : x % 2 == 0, li)))"
      ],
      "metadata": {
        "colab": {
          "base_uri": "https://localhost:8080/"
        },
        "id": "vEN1XGWFEfCS",
        "outputId": "01425cc3-d090-422a-88d2-2222c0aef0d3"
      },
      "execution_count": 25,
      "outputs": [
        {
          "output_type": "stream",
          "name": "stdout",
          "text": [
            "The values after condition returns false : [5, 7, 8]\n"
          ]
        }
      ]
    },
    {
      "cell_type": "code",
      "source": [
        "import itertools\n",
        "li = [2, 4, 5, 7, 8 ,10 ,1 , 12 , 14 ,13 ]\n",
        "print (\"The values that return false to function are : \", end =\"\")\n",
        "print (list(itertools.filterfalse(lambda x : x % 2 == 0, li)))"
      ],
      "metadata": {
        "colab": {
          "base_uri": "https://localhost:8080/"
        },
        "id": "bB03lEtZEgk7",
        "outputId": "75a858ab-b06f-4e39-a2d0-2b95d68fbb25"
      },
      "execution_count": 26,
      "outputs": [
        {
          "output_type": "stream",
          "name": "stdout",
          "text": [
            "The values that return false to function are : [5, 7, 1, 13]\n"
          ]
        }
      ]
    },
    {
      "cell_type": "code",
      "source": [
        "import itertools\n",
        "a_list = [(\"Animal\", \"cat\"),\n",
        "          (\"Animal\", \"dog\"),\n",
        "          (\"Bird\", \"peacock\"),\n",
        "          (\"Bird\", \"pigeon\")]\n",
        "an_iterator = itertools.groupby(a_list, lambda x : x[0])\n",
        "for key, group in an_iterator:\n",
        "    key_and_group = {key : list(group)}\n",
        "    print(key_and_group)"
      ],
      "metadata": {
        "colab": {
          "base_uri": "https://localhost:8080/"
        },
        "id": "Ot-Z-CbaEimr",
        "outputId": "216c3bab-cecb-4707-e5a8-56d7608513b6"
      },
      "execution_count": 27,
      "outputs": [
        {
          "output_type": "stream",
          "name": "stdout",
          "text": [
            "{'Animal': [('Animal', 'cat'), ('Animal', 'dog')]}\n",
            "{'Bird': [('Bird', 'peacock'), ('Bird', 'pigeon')]}\n"
          ]
        }
      ]
    },
    {
      "cell_type": "code",
      "source": [
        "import itertools\n",
        "li = [2, 4, 5, 7, 8, 10, 20]\n",
        "print (\"The sliced list values are : \", end =\"\")\n",
        "print (list(itertools.islice(li, 1, 7, 1)))\n",
        "print (\"The sliced list values are : \", end =\"\")\n",
        "print (list(itertools.islice(li, 1, 6, 2)))"
      ],
      "metadata": {
        "colab": {
          "base_uri": "https://localhost:8080/"
        },
        "id": "-o_2fMFpEj9g",
        "outputId": "9a715622-7f92-4303-834a-ebf05d69004b"
      },
      "execution_count": 28,
      "outputs": [
        {
          "output_type": "stream",
          "name": "stdout",
          "text": [
            "The sliced list values are : [4, 5, 7, 8, 10, 20]\n",
            "The sliced list values are : [4, 7, 10]\n"
          ]
        }
      ]
    },
    {
      "cell_type": "code",
      "source": [
        "from itertools import starmap\n",
        "co_ordinates =[(2, 3, 4),\n",
        "               (3, 4, 5),\n",
        "               (6, 8, 10),\n",
        "               (1, 5, 7),\n",
        "               (7, 4, 10)]\n",
        "right_triangles = list(starmap(lambda x, y, z:True\n",
        "                               if ((x * x)+(y * y))==(z * z)\n",
        "                               else False, co_ordinates))\n",
        "print(\"tuples which form right angled triangle :\",\n",
        "      right_triangles, end =\"\\n\")\n",
        "print(\"The right triangle coordinates are :\",\n",
        "      end =\"\")\n",
        "for i in range (0, len(right_triangles)):\n",
        "    if right_triangles[i]== True:\n",
        "        print(co_ordinates[i], end =\" \")"
      ],
      "metadata": {
        "colab": {
          "base_uri": "https://localhost:8080/"
        },
        "id": "U0covJ98Elso",
        "outputId": "030eb1e1-9738-49bc-8c3e-544241bf290b"
      },
      "execution_count": 29,
      "outputs": [
        {
          "output_type": "stream",
          "name": "stdout",
          "text": [
            "tuples which form right angled triangle : [False, True, True, False, False]\n",
            "The right triangle coordinates are :(3, 4, 5) (6, 8, 10) "
          ]
        }
      ]
    },
    {
      "cell_type": "code",
      "source": [
        "import itertools\n",
        "li = [2, 4, 6, 7, 8, 10, 20]\n",
        "print (\"The list values till 1st false value are : \", end =\"\")\n",
        "print (list(itertools.takewhile(lambda x : x % 2 == 0, li )))"
      ],
      "metadata": {
        "colab": {
          "base_uri": "https://localhost:8080/"
        },
        "id": "p7VgxLbXEnbQ",
        "outputId": "5d5847cd-cc57-472e-a003-9f122c954179"
      },
      "execution_count": 30,
      "outputs": [
        {
          "output_type": "stream",
          "name": "stdout",
          "text": [
            "The list values till 1st false value are : [2, 4, 6]\n"
          ]
        }
      ]
    },
    {
      "cell_type": "code",
      "source": [
        "import itertools\n",
        "li = [2, 4, 6, 7, 8, 10, 20]\n",
        "iti = iter(li)\n",
        "it = itertools.tee(iti, 3)\n",
        "print (\"The iterators are : \")\n",
        "for i in range (0, 3):\n",
        "   print (list(it[i]))"
      ],
      "metadata": {
        "colab": {
          "base_uri": "https://localhost:8080/"
        },
        "id": "r9FaRcLKEpPQ",
        "outputId": "61382bd3-2cf9-4872-ae34-6cf8f634375a"
      },
      "execution_count": 31,
      "outputs": [
        {
          "output_type": "stream",
          "name": "stdout",
          "text": [
            "The iterators are : \n",
            "[2, 4, 6, 7, 8, 10, 20]\n",
            "[2, 4, 6, 7, 8, 10, 20]\n",
            "[2, 4, 6, 7, 8, 10, 20]\n"
          ]
        }
      ]
    },
    {
      "cell_type": "code",
      "source": [
        "from itertools import zip_longest\n",
        "x =[1, 2, 3, 4, 5, 6, 7]\n",
        "y =[8, 9, 10]\n",
        "z = list(zip_longest(x, y))\n",
        "print(z)"
      ],
      "metadata": {
        "colab": {
          "base_uri": "https://localhost:8080/"
        },
        "id": "688nmV4FEq2A",
        "outputId": "ae3c6d51-548a-40b8-c055-817f46150f95"
      },
      "execution_count": 32,
      "outputs": [
        {
          "output_type": "stream",
          "name": "stdout",
          "text": [
            "[(1, 8), (2, 9), (3, 10), (4, None), (5, None), (6, None), (7, None)]\n"
          ]
        }
      ]
    },
    {
      "cell_type": "code",
      "source": [
        "# Create an iterator that counts from 5 with a step of 2\n",
        "counter = count(5, 2)\n",
        "# Print the first 5 numbers\n",
        "for i in range(5):\n",
        "  print(next(counter))"
      ],
      "metadata": {
        "colab": {
          "base_uri": "https://localhost:8080/",
          "height": 211
        },
        "id": "XY09FENbEsjQ",
        "outputId": "15670cea-6008-4a0f-ba2e-320a2a2a6532"
      },
      "execution_count": 34,
      "outputs": [
        {
          "output_type": "error",
          "ename": "TypeError",
          "evalue": "'int' object is not callable",
          "traceback": [
            "\u001b[0;31m---------------------------------------------------------------------------\u001b[0m",
            "\u001b[0;31mTypeError\u001b[0m                                 Traceback (most recent call last)",
            "\u001b[0;32m<ipython-input-34-673c8c7fc8e8>\u001b[0m in \u001b[0;36m<cell line: 2>\u001b[0;34m()\u001b[0m\n\u001b[1;32m      1\u001b[0m \u001b[0;31m# Create an iterator that counts from 5 with a step of 2\u001b[0m\u001b[0;34m\u001b[0m\u001b[0;34m\u001b[0m\u001b[0m\n\u001b[0;32m----> 2\u001b[0;31m \u001b[0mcounter\u001b[0m \u001b[0;34m=\u001b[0m \u001b[0mcount\u001b[0m\u001b[0;34m(\u001b[0m\u001b[0;36m5\u001b[0m\u001b[0;34m,\u001b[0m \u001b[0;36m2\u001b[0m\u001b[0;34m)\u001b[0m\u001b[0;34m\u001b[0m\u001b[0;34m\u001b[0m\u001b[0m\n\u001b[0m\u001b[1;32m      3\u001b[0m \u001b[0;31m# Print the first 5 numbers\u001b[0m\u001b[0;34m\u001b[0m\u001b[0;34m\u001b[0m\u001b[0m\n\u001b[1;32m      4\u001b[0m \u001b[0;32mfor\u001b[0m \u001b[0mi\u001b[0m \u001b[0;32min\u001b[0m \u001b[0mrange\u001b[0m\u001b[0;34m(\u001b[0m\u001b[0;36m5\u001b[0m\u001b[0;34m)\u001b[0m\u001b[0;34m:\u001b[0m\u001b[0;34m\u001b[0m\u001b[0;34m\u001b[0m\u001b[0m\n\u001b[1;32m      5\u001b[0m   \u001b[0mprint\u001b[0m\u001b[0;34m(\u001b[0m\u001b[0mnext\u001b[0m\u001b[0;34m(\u001b[0m\u001b[0mcounter\u001b[0m\u001b[0;34m)\u001b[0m\u001b[0;34m)\u001b[0m\u001b[0;34m\u001b[0m\u001b[0;34m\u001b[0m\u001b[0m\n",
            "\u001b[0;31mTypeError\u001b[0m: 'int' object is not callable"
          ]
        }
      ]
    },
    {
      "cell_type": "code",
      "source": [
        "fruits = ['apple', 'banana', 'cherry']\n",
        "fruits.append('orange')\n",
        "print(fruits)  # Output: ['apple', 'banana', 'cherry', 'orange']"
      ],
      "metadata": {
        "colab": {
          "base_uri": "https://localhost:8080/"
        },
        "id": "fLjxzObKEzRL",
        "outputId": "1855cacd-9227-434c-b410-135183a9e0d3"
      },
      "execution_count": 35,
      "outputs": [
        {
          "output_type": "stream",
          "name": "stdout",
          "text": [
            "['apple', 'banana', 'cherry', 'orange']\n"
          ]
        }
      ]
    },
    {
      "cell_type": "code",
      "source": [
        "point = (3, 4)\n",
        "x, y = point\n",
        "print(f\"x: {x}, y: {y}\")  # Output: x: 3, y: 4"
      ],
      "metadata": {
        "colab": {
          "base_uri": "https://localhost:8080/"
        },
        "id": "8AIW4c7fFC2j",
        "outputId": "b267d575-44b1-4b3a-eefd-0a8ad009fffb"
      },
      "execution_count": 36,
      "outputs": [
        {
          "output_type": "stream",
          "name": "stdout",
          "text": [
            "x: 3, y: 4\n"
          ]
        }
      ]
    },
    {
      "cell_type": "code",
      "source": [
        "fruits = {'apple', 'banana', 'cherry'}\n",
        "fruits.add('orange')\n",
        "print(fruits)  # Output: {'apple', 'banana', 'cherry', 'orange'}"
      ],
      "metadata": {
        "colab": {
          "base_uri": "https://localhost:8080/"
        },
        "id": "ZwgRzNDRFE5r",
        "outputId": "32088b9f-45d4-4598-a57a-4dceaf7e2c1e"
      },
      "execution_count": 37,
      "outputs": [
        {
          "output_type": "stream",
          "name": "stdout",
          "text": [
            "{'apple', 'cherry', 'banana', 'orange'}\n"
          ]
        }
      ]
    },
    {
      "cell_type": "code",
      "source": [
        "student = {'name': 'John', 'age': 20, 'grade': 'A'}\n",
        "print(student['name'])  # Output: John"
      ],
      "metadata": {
        "colab": {
          "base_uri": "https://localhost:8080/"
        },
        "id": "fqdx4OmaFGuj",
        "outputId": "ce6700a3-3380-4d71-bce2-95298bc94902"
      },
      "execution_count": 38,
      "outputs": [
        {
          "output_type": "stream",
          "name": "stdout",
          "text": [
            "John\n"
          ]
        }
      ]
    },
    {
      "cell_type": "code",
      "source": [
        "from collections import deque\n",
        "\n",
        "queue = deque()\n",
        "queue.append('apple')\n",
        "queue.append('banana')\n",
        "queue.append('cherry')\n",
        "print(queue.popleft())  # Output: apple"
      ],
      "metadata": {
        "colab": {
          "base_uri": "https://localhost:8080/"
        },
        "id": "IiN5mN29FJGy",
        "outputId": "a1ddbb75-ccc3-4e6a-acdb-d4b614dbb47e"
      },
      "execution_count": 39,
      "outputs": [
        {
          "output_type": "stream",
          "name": "stdout",
          "text": [
            "apple\n"
          ]
        }
      ]
    },
    {
      "cell_type": "code",
      "source": [
        "from collections import namedtuple\n",
        "\n",
        "Person = namedtuple('Person', ['name', 'age'])\n",
        "person = Person('John', 25)\n",
        "print(person.name)  # Output: John"
      ],
      "metadata": {
        "colab": {
          "base_uri": "https://localhost:8080/"
        },
        "id": "ZxO30XqZFLk7",
        "outputId": "109a0d5f-ef9a-4cc1-f05b-a4a48d746158"
      },
      "execution_count": 40,
      "outputs": [
        {
          "output_type": "stream",
          "name": "stdout",
          "text": [
            "John\n"
          ]
        }
      ]
    },
    {
      "cell_type": "code",
      "source": [],
      "metadata": {
        "id": "jVeAMpgFFNKr"
      },
      "execution_count": null,
      "outputs": []
    }
  ]
}